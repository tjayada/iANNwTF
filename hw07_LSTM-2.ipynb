{
  "nbformat": 4,
  "nbformat_minor": 0,
  "metadata": {
    "colab": {
      "name": "new_version-hw07_LSTM.ipynb",
      "provenance": [],
      "collapsed_sections": []
    },
    "kernelspec": {
      "name": "python3",
      "display_name": "Python 3"
    },
    "language_info": {
      "name": "python"
    },
    "accelerator": "GPU"
  },
  "cells": [
    {
      "cell_type": "code",
      "source": [
        "import numpy as np\n",
        "import tensorflow as tf"
      ],
      "metadata": {
        "id": "QIcWAvcV1EU8"
      },
      "execution_count": 48,
      "outputs": []
    },
    {
      "cell_type": "code",
      "execution_count": 49,
      "metadata": {
        "id": "nMiI6dKnvhVp"
      },
      "outputs": [],
      "source": [
        "def integration_task(seq_len, num_samples):\n",
        "  for i in range(num_samples):\n",
        "    rnd_noise = np.random.normal(size=seq_len)\n",
        "    rnd_noise = np.expand_dims(rnd_noise,-1)\n",
        "    target = np.sum(rnd_noise)\n",
        "    if target >= 1:\n",
        "      target = 1\n",
        "    else: target = 0\n",
        "    target = np.expand_dims(target,-1)\n",
        "    yield rnd_noise, target"
      ]
    },
    {
      "cell_type": "code",
      "source": [
        "r = integration_task(5, 5)\n",
        "for i in r:\n",
        "  print(i)\n",
        "  break"
      ],
      "metadata": {
        "colab": {
          "base_uri": "https://localhost:8080/"
        },
        "id": "kUWMeTrB0uRL",
        "outputId": "5445a969-4344-4e72-d8c1-8ecea01b66da"
      },
      "execution_count": 50,
      "outputs": [
        {
          "output_type": "stream",
          "name": "stdout",
          "text": [
            "(array([[ 2.25567896],\n",
            "       [ 0.70427505],\n",
            "       [-1.40509897],\n",
            "       [ 0.400284  ],\n",
            "       [-2.09034243]]), array([0]))\n"
          ]
        }
      ]
    },
    {
      "cell_type": "code",
      "source": [
        "def my_integration_task():\n",
        "  seq_len = 10\n",
        "  num_samples = 80000\n",
        "  iter = integration_task(seq_len, num_samples)\n",
        "  for x,y in iter:\n",
        "    yield x,y"
      ],
      "metadata": {
        "id": "MZLI4Q7K27PT"
      },
      "execution_count": 51,
      "outputs": []
    },
    {
      "cell_type": "code",
      "source": [
        "train_ds = tf.data.Dataset.from_generator(my_integration_task, (tf.float32, tf.int16))\n",
        "test_ds = tf.data.Dataset.from_generator(my_integration_task, (tf.float32, tf.int16))"
      ],
      "metadata": {
        "id": "kcEMxFn55PLF"
      },
      "execution_count": 52,
      "outputs": []
    },
    {
      "cell_type": "code",
      "source": [
        "for elem in train_ds:\n",
        "  print(elem)\n",
        "  break"
      ],
      "metadata": {
        "colab": {
          "base_uri": "https://localhost:8080/"
        },
        "id": "Dp8rQPcF9Vr-",
        "outputId": "62892e00-7892-46aa-e0de-9083bc956ab5"
      },
      "execution_count": 53,
      "outputs": [
        {
          "output_type": "stream",
          "name": "stdout",
          "text": [
            "(<tf.Tensor: shape=(10, 1), dtype=float32, numpy=\n",
            "array([[ 0.43794882],\n",
            "       [ 0.51837295],\n",
            "       [-0.35790887],\n",
            "       [ 0.9794736 ],\n",
            "       [-0.15092248],\n",
            "       [ 0.60882974],\n",
            "       [-2.0884836 ],\n",
            "       [ 0.83173233],\n",
            "       [-0.43273157],\n",
            "       [ 1.525669  ]], dtype=float32)>, <tf.Tensor: shape=(1,), dtype=int16, numpy=array([1], dtype=int16)>)\n"
          ]
        }
      ]
    },
    {
      "cell_type": "code",
      "source": [
        "def prepare_LSMT_data(lsmt):\n",
        "  lsmt = lsmt.cache()\n",
        "  #shuffle, batch, prefetch\n",
        "  lsmt = lsmt.shuffle(1000)\n",
        "  lsmt = lsmt.batch(64)\n",
        "  lsmt = lsmt.prefetch(20)\n",
        "  #return preprocessed dataset\n",
        "  return lsmt"
      ],
      "metadata": {
        "id": "SHOmyV_UEDqB"
      },
      "execution_count": 54,
      "outputs": []
    },
    {
      "cell_type": "code",
      "source": [
        "train_dataset = train_ds.apply(prepare_LSMT_data)\n",
        "test_dataset = test_ds.apply(prepare_LSMT_data)"
      ],
      "metadata": {
        "id": "W4Nr_6RrGPOr"
      },
      "execution_count": 55,
      "outputs": []
    },
    {
      "cell_type": "code",
      "source": [
        "class LSTM_Cell(tf.keras.layers.Layer):\n",
        "  def __init__(self, units = 256):\n",
        "    super(LSTM_Cell, self).__init__()\n",
        "    self.units = units\n",
        "    self.dense_sigmoid_1 = tf.keras.layers.Dense(self.units, activation = tf.nn.sigmoid, bias_initializer='ones')\n",
        "    self.dense_sigmoid_2 = tf.keras.layers.Dense(self.units, activation = tf.nn.sigmoid)\n",
        "    self.dense_sigmoid_3 = tf.keras.layers.Dense(self.units, activation = tf.nn.sigmoid)\n",
        "    self.dense_tanh_1 = tf.keras.layers.Dense(self.units, activation = tf.nn.tanh)\n",
        "    \n",
        "\n",
        "  def call(self, input_single_time_step, states):\n",
        "    h_s, c_s = states\n",
        "    \n",
        "    concat = tf.concat([input_single_time_step, h_s], 1)\n",
        "    \n",
        "    x_1 = self.dense_sigmoid_1(concat)\n",
        "\n",
        "    x_2 = self.dense_sigmoid_2(concat)\n",
        "    \n",
        "    x_3 = self.dense_tanh_1(concat)\n",
        "    \n",
        "    sig_and_tan = tf.math.multiply(x_2,x_3)\n",
        "\n",
        "    c_t = tf.math.multiply(x_1, c_s) +\\\n",
        "                 tf.math.multiply(x_2, x_3)\n",
        "    \n",
        "    x_4 = self.dense_sigmoid_3(concat)\n",
        "    \n",
        "    acti = tf.nn.tanh(c_t)\n",
        "    \n",
        "    h_t = tf.math.multiply(x_4, acti)\n",
        "\n",
        "    return h_t,c_t\n",
        "  \n"
      ],
      "metadata": {
        "id": "wbjZhpKAG1XM"
      },
      "execution_count": 56,
      "outputs": []
    },
    {
      "cell_type": "code",
      "source": [
        "class LSTM_Layer(tf.keras.layers.Layer):\n",
        "  def __init__(self, cell_units = 1):\n",
        "    super(LSTM_Layer, self).__init__()\n",
        "    \n",
        "    self.units = cell_units\n",
        "    self.cell = LSTM_Cell(self.units)\n",
        "    self.zeros = self.zero_states(64)\n",
        "\n",
        "  def call(self, inputs, states=None):\n",
        "      if states == None:\n",
        "          states = self.zeros\n",
        "      output_sequence = tf.TensorArray(tf.float32, size=0, dynamic_size=True)\n",
        "      \n",
        "      for i in tf.range(10):\n",
        "          input = inputs[:, i]\n",
        "          states = self.cell(input, states)\n",
        "          output_sequence = output_sequence.write(i, states[0])\n",
        "      output_sequence = tf.transpose(output_sequence.stack(), perm=[1,0,2])\n",
        "      \n",
        "      return output_sequence\n",
        "\n",
        "  def zero_states(self, batch_size):\n",
        "        return (tf.zeros((batch_size, self.cell.units)), tf.zeros((batch_size, self.cell.units)))\n",
        "\n",
        "\n",
        "\n",
        "  "
      ],
      "metadata": {
        "id": "SttslYOoiKGC"
      },
      "execution_count": 57,
      "outputs": []
    },
    {
      "cell_type": "code",
      "source": [
        "class LSTM(tf.keras.Model):\n",
        "    def __init__(self):\n",
        "        super().__init__()\n",
        "        self.layer_list = [\n",
        "                           tf.keras.layers.Dense(50, activation='sigmoid'),\n",
        "                           LSTM_Layer(cell_units=6),\n",
        "                           tf.keras.layers.Dense(3, activation='sigmoid'),\n",
        "                           tf.keras.layers.Dense(1, activation='sigmoid')\n",
        "                           ]\n",
        "\n",
        "    def call(self, x):\n",
        "        input = x\n",
        "        for layer in self.layer_list:\n",
        "            input = layer(input)    \n",
        "        return input[:,-1,:]\n"
      ],
      "metadata": {
        "id": "RfntzdMB9icO"
      },
      "execution_count": 58,
      "outputs": []
    },
    {
      "cell_type": "code",
      "source": [
        "def train_step(model, input, target, loss_function, optimizer):\n",
        "  # loss_object and optimizer_object are instances of respective tensorflow classes\n",
        "  with tf.GradientTape() as tape:\n",
        "    prediction = model(input)\n",
        "    loss = loss_function(target, prediction)\n",
        "    gradients = tape.gradient(loss, model.trainable_variables)\n",
        "  optimizer.apply_gradients(zip(gradients, model.trainable_variables))\n",
        "  return loss\n",
        "\n",
        "def test(model, test_data, loss_function):\n",
        "  # test over complete test data\n",
        "  test_accuracy_aggregator = []\n",
        "  test_loss_aggregator = []\n",
        "\n",
        "  for (input, target) in test_data:\n",
        "    prediction = model(input)\n",
        "    sample_test_loss = loss_function(target, prediction)\n",
        "    sample_test_accuracy =  np.round(target) == np.round(prediction)\n",
        "    sample_test_accuracy = np.mean(sample_test_accuracy)\n",
        "    test_loss_aggregator.append(sample_test_loss.numpy())\n",
        "    test_accuracy_aggregator.append(np.mean(sample_test_accuracy))\n",
        "\n",
        "  test_loss = tf.reduce_mean(test_loss_aggregator)\n",
        "  test_accuracy = tf.reduce_mean(test_accuracy_aggregator)\n",
        "\n",
        "  return test_loss, test_accuracy"
      ],
      "metadata": {
        "id": "MuOC84Yk_2Rq"
      },
      "execution_count": 59,
      "outputs": []
    },
    {
      "cell_type": "code",
      "source": [
        "tf.keras.backend.clear_session()\n",
        "\n",
        "### Hyperparameters\n",
        "num_epochs = 10\n",
        "learning_rate = 0.001\n",
        "\n",
        "# Initialize the model.\n",
        "model = LSTM()\n",
        "# Initialize the loss: binary cross entropy. Check out 'tf.keras.losses'.\n",
        "binary_entropy_loss = tf.keras.losses.BinaryCrossentropy()\n",
        "# Initialize the optimizer: Adam with default parameters. Check out 'tf.keras.optimizers'\n",
        "optimizer = tf.keras.optimizers.Adam(learning_rate)\n",
        "\n",
        "# Initialize lists for later visualization.\n",
        "train_losses = []\n",
        "\n",
        "test_losses = []\n",
        "test_accuracies = []\n",
        "\n",
        "#testing once before we begin\n",
        "test_loss, test_accuracy = test(model, test_dataset, binary_entropy_loss)\n",
        "test_losses.append(test_loss)\n",
        "test_accuracies.append(test_accuracy)\n",
        "\n",
        "#check how model performs on train data once before we begin\n",
        "train_loss, _ = test(model, train_dataset, binary_entropy_loss)\n",
        "train_losses.append(train_loss)\n",
        "\n",
        "# We train for num_epochs epochs.\n",
        "for epoch in range(num_epochs):\n",
        "    print(f'Epoch: {str(epoch)} starting with accuracy {test_accuracies[-1]}')\n",
        "\n",
        "    #training (and checking in with training)\n",
        "    epoch_loss_agg = []\n",
        "    for input,target in train_dataset:\n",
        "        train_loss = train_step(model, input, target, binary_entropy_loss, optimizer)\n",
        "        epoch_loss_agg.append(train_loss)\n",
        "    \n",
        "    #track training loss\n",
        "    train_losses.append(tf.reduce_mean(epoch_loss_agg))\n",
        "\n",
        "    #testing, so we can track accuracy and test loss\n",
        "    test_loss, test_accuracy = test(model, test_dataset, binary_entropy_loss)\n",
        "    test_losses.append(test_loss)\n",
        "    test_accuracies.append(test_accuracy)"
      ],
      "metadata": {
        "colab": {
          "base_uri": "https://localhost:8080/"
        },
        "id": "yccEfTPbALHo",
        "outputId": "7e660f71-4fb6-4b8f-e46d-df6f5a400b2d"
      },
      "execution_count": 60,
      "outputs": [
        {
          "output_type": "stream",
          "name": "stdout",
          "text": [
            "Epoch: 0 starting with accuracy 0.6237625\n",
            "Epoch: 1 starting with accuracy 0.957775\n",
            "Epoch: 2 starting with accuracy 0.9752125\n",
            "Epoch: 3 starting with accuracy 0.9726625\n",
            "Epoch: 4 starting with accuracy 0.9863625\n",
            "Epoch: 5 starting with accuracy 0.988725\n",
            "Epoch: 6 starting with accuracy 0.9821875\n",
            "Epoch: 7 starting with accuracy 0.9879375\n",
            "Epoch: 8 starting with accuracy 0.9770875\n",
            "Epoch: 9 starting with accuracy 0.984675\n"
          ]
        }
      ]
    },
    {
      "cell_type": "code",
      "source": [
        "import matplotlib.pyplot as plt\n",
        "\n",
        "# Visualize accuracy and loss for training and test data.\n",
        "plt.figure()\n",
        "line1, = plt.plot(train_losses)\n",
        "line2, = plt.plot(test_losses)\n",
        "line3, = plt.plot(test_accuracies)\n",
        "plt.xlabel(\"Training steps\")\n",
        "plt.ylabel(\"Loss/Accuracy\")\n",
        "plt.legend((line1,line2, line3),(\"training\",\"test\", \"test accuracy\"))\n",
        "plt.show()"
      ],
      "metadata": {
        "id": "VlREphXvAQu3",
        "colab": {
          "base_uri": "https://localhost:8080/",
          "height": 279
        },
        "outputId": "d970af88-5aa2-48ba-b726-dbdb2e19cad4"
      },
      "execution_count": 61,
      "outputs": [
        {
          "output_type": "display_data",
          "data": {
            "image/png": "[encoded data removed]",
            "text/plain": [
              "<Figure size 432x288 with 1 Axes>"
            ]
          },
          "metadata": {
            "needs_background": "light"
          }
        }
      ]
    }
  ]
}